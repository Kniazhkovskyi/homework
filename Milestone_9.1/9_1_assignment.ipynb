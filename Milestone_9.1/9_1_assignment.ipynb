{
  "cells": [
    {
      "cell_type": "markdown",
      "metadata": {
        "id": "oY7M_WqQy7zz"
      },
      "source": [
        "# Assignment 9.1\n",
        "\n",
        "> Replace all TODOs with your code. Do not change any other code."
      ]
    },
    {
      "cell_type": "code",
      "execution_count": 44,
      "metadata": {
        "id": "bymolQyG6lVT"
      },
      "outputs": [],
      "source": [
        "# Do not edit this cell\n",
        "\n",
        "import numpy as np\n",
        "import pandas as pd"
      ]
    },
    {
      "cell_type": "markdown",
      "metadata": {
        "id": "Jz8SYjAz0N8D"
      },
      "source": [
        "## Numpy"
      ]
    },
    {
      "cell_type": "markdown",
      "metadata": {
        "id": "IHwd1Zzby7z1"
      },
      "source": [
        "### Task 1\n",
        "\n",
        "Create a 1D numpy array with elements [1, 2, 3, 4, 5]. Do it in two different ways.\n"
      ]
    },
    {
      "cell_type": "code",
      "execution_count": 3,
      "metadata": {
        "id": "UfB0dnXHy7z2",
        "tags": [
          "task_1a"
        ]
      },
      "outputs": [
        {
          "name": "stdout",
          "output_type": "stream",
          "text": [
            "[1 2 3 4 5]\n"
          ]
        }
      ],
      "source": [
        "res = np.array([1, 2, 3, 4, 5])\n",
        "\n",
        "print(res)"
      ]
    },
    {
      "cell_type": "code",
      "execution_count": 4,
      "metadata": {
        "id": "VtHGOji2zOfq",
        "tags": [
          "task_1b"
        ]
      },
      "outputs": [
        {
          "name": "stdout",
          "output_type": "stream",
          "text": [
            "[1 2 3 4 5]\n"
          ]
        }
      ],
      "source": [
        "res2 = np.arange(1, 6)\n",
        "\n",
        "print(res2)"
      ]
    },
    {
      "cell_type": "markdown",
      "metadata": {
        "id": "lL-ELM-Ay7z2"
      },
      "source": [
        "### Task 2\n",
        "\n",
        "Create a 2D numpy array with shape (3, 5) filled with random integers between 1 and 100."
      ]
    },
    {
      "cell_type": "code",
      "execution_count": 5,
      "metadata": {
        "id": "cibiSsjry7z3",
        "tags": [
          "task_2"
        ]
      },
      "outputs": [
        {
          "name": "stdout",
          "output_type": "stream",
          "text": [
            "[[76 47 99 45 93]\n",
            " [61 89 83 63 33]\n",
            " [79 38 80 41 65]]\n"
          ]
        }
      ],
      "source": [
        "res3 = np.random.randint(1, 101, size=(3, 5))\n",
        "\n",
        "print(res3)"
      ]
    },
    {
      "cell_type": "markdown",
      "metadata": {
        "id": "Iagg2Xez6lVk"
      },
      "source": [
        "### Task 3\n",
        "\n",
        "Print the first row of array `res3`."
      ]
    },
    {
      "cell_type": "code",
      "execution_count": 7,
      "metadata": {
        "id": "0Ug49s5l6lVm",
        "tags": [
          "task_3"
        ]
      },
      "outputs": [
        {
          "name": "stdout",
          "output_type": "stream",
          "text": [
            "[76 47 99 45 93]\n"
          ]
        }
      ],
      "source": [
        "print(res3[0])"
      ]
    },
    {
      "cell_type": "markdown",
      "metadata": {
        "id": "L-qS4zMn6lVn"
      },
      "source": [
        "### Task 4\n",
        "\n",
        "Access the last column of array `res3`. Assume that the array may be of any 2D shape."
      ]
    },
    {
      "cell_type": "code",
      "execution_count": 8,
      "metadata": {
        "id": "XLdVpV8P6lVo",
        "tags": [
          "task_4"
        ]
      },
      "outputs": [
        {
          "name": "stdout",
          "output_type": "stream",
          "text": [
            "[93 33 65]\n"
          ]
        }
      ],
      "source": [
        "print(res3[:, -1])"
      ]
    },
    {
      "cell_type": "markdown",
      "metadata": {
        "id": "saWNjvtKy7z3"
      },
      "source": [
        "### Task 5\n",
        "\n",
        "Find the min, max, and sum of elements of the second column of array `res3`."
      ]
    },
    {
      "cell_type": "code",
      "execution_count": 11,
      "metadata": {
        "id": "V0T9Dybqy7z3",
        "tags": [
          "task_5a"
        ]
      },
      "outputs": [
        {
          "name": "stdout",
          "output_type": "stream",
          "text": [
            "min = 38\n"
          ]
        }
      ],
      "source": [
        "# Min\n",
        "res_min = res3[:, 1].min()\n",
        "\n",
        "print('min =', res_min)"
      ]
    },
    {
      "cell_type": "code",
      "execution_count": 12,
      "metadata": {
        "id": "cs5yNlMDy7z3",
        "tags": [
          "task_5b"
        ]
      },
      "outputs": [
        {
          "name": "stdout",
          "output_type": "stream",
          "text": [
            "max = 89\n"
          ]
        }
      ],
      "source": [
        "# Max\n",
        "res_max = res3[:, 1].max()\n",
        "\n",
        "print('max =', res_max)"
      ]
    },
    {
      "cell_type": "code",
      "execution_count": 13,
      "metadata": {
        "id": "iCRsMwrsy7z3",
        "tags": [
          "task_5c"
        ]
      },
      "outputs": [
        {
          "name": "stdout",
          "output_type": "stream",
          "text": [
            "sum = 174\n"
          ]
        }
      ],
      "source": [
        "# Sum\n",
        "res_sum = res3[:, 1].sum()\n",
        "\n",
        "print('sum =', res_sum)"
      ]
    },
    {
      "cell_type": "markdown",
      "metadata": {
        "id": "r47KggVa6lVr"
      },
      "source": [
        "### Task 6\n",
        "\n",
        "Tabulate the function\n",
        "\n",
        "$$f(x) = e^{2x}$$\n",
        "\n",
        "on interval `[0, 1]` with step 0.1.\n",
        "\n",
        "By \"tabulate\" we mean that we want to have a table (1D array), where on the first position we will have the function value for 0, on the second position 0.1, and so on."
      ]
    },
    {
      "cell_type": "code",
      "execution_count": 14,
      "metadata": {
        "id": "hYvk0d3i6lVs",
        "tags": [
          "task_6"
        ]
      },
      "outputs": [
        {
          "name": "stdout",
          "output_type": "stream",
          "text": [
            "[1.         1.22140276 1.4918247  1.8221188  2.22554093 2.71828183\n",
            " 3.32011692 4.05519997 4.95303242 6.04964746 7.3890561 ]\n"
          ]
        }
      ],
      "source": [
        "x = np.arange(0, 1.1, 0.1)\n",
        "f_x = np.exp(2 * x)\n",
        "\n",
        "print(f_x)"
      ]
    },
    {
      "cell_type": "markdown",
      "metadata": {
        "id": "5DzFkKwx0VI5"
      },
      "source": [
        "## Pandas\n",
        "\n",
        "We will be working on the classic dataset for beginner data scientists: Titanic passengers."
      ]
    },
    {
      "cell_type": "markdown",
      "metadata": {
        "id": "nP0LlORsy7z4"
      },
      "source": [
        "### Task 7\n",
        "\n",
        "Load the dataset from the following URL: https://web.stanford.edu/class/cs102/datasets/Titanic.csv"
      ]
    },
    {
      "cell_type": "code",
      "execution_count": 37,
      "metadata": {
        "id": "RiIm_kUSy7z4",
        "tags": [
          "task_7"
        ]
      },
      "outputs": [
        {
          "name": "stdout",
          "output_type": "stream",
          "text": [
            "          last                                       first gender   age  \\\n",
            "0       Braund                             Mr. Owen Harris      M  22.0   \n",
            "1      Cumings  Mrs. John Bradley (Florence Briggs Thayer)      F  38.0   \n",
            "2    Heikkinen                                  Miss Laina      F  26.0   \n",
            "3     Futrelle          Mrs. Jacques Heath (Lily May Peel)      F  35.0   \n",
            "4        Allen                           Mr. William Henry      M  35.0   \n",
            "..         ...                                         ...    ...   ...   \n",
            "886   Montvila                                 Rev. Juozas      M  27.0   \n",
            "887     Graham                         Miss Margaret Edith      F  19.0   \n",
            "888   Johnston               Miss Catherine Helen \"Carrie\"      F   NaN   \n",
            "889       Behr                             Mr. Karl Howell      M  26.0   \n",
            "890     Dooley                                 Mr. Patrick      M  32.0   \n",
            "\n",
            "     class     fare     embarked survived  \n",
            "0        3   7.2500  Southampton       no  \n",
            "1        1  71.2833    Cherbourg      yes  \n",
            "2        3   7.9250  Southampton      yes  \n",
            "3        1  53.1000  Southampton      yes  \n",
            "4        3   8.0500  Southampton       no  \n",
            "..     ...      ...          ...      ...  \n",
            "886      2  13.0000  Southampton       no  \n",
            "887      1  30.0000  Southampton      yes  \n",
            "888      3  23.4500  Southampton       no  \n",
            "889      1  30.0000    Cherbourg      yes  \n",
            "890      3   7.7500   Queenstown       no  \n",
            "\n",
            "[891 rows x 8 columns]\n"
          ]
        }
      ],
      "source": [
        "url = \"https://web.stanford.edu/class/cs102/datasets/Titanic.csv\"\n",
        "\n",
        "df = pd.read_csv(url)\n",
        "\n",
        "print(df)"
      ]
    },
    {
      "cell_type": "markdown",
      "metadata": {
        "id": "hU1yDEnzy7z4"
      },
      "source": [
        "### Task 8\n",
        "\n",
        "Let's see the series/columns present in the data frame.\n",
        "\n",
        "Also, let's inspect the first ten rows of data."
      ]
    },
    {
      "cell_type": "code",
      "execution_count": 38,
      "metadata": {
        "id": "8sOSsdKiy7z4",
        "tags": [
          "task_8a"
        ]
      },
      "outputs": [
        {
          "name": "stdout",
          "output_type": "stream",
          "text": [
            "Index(['last', 'first', 'gender', 'age', 'class', 'fare', 'embarked',\n",
            "       'survived'],\n",
            "      dtype='object')\n"
          ]
        }
      ],
      "source": [
        "print(df.columns)"
      ]
    },
    {
      "cell_type": "code",
      "execution_count": 39,
      "metadata": {
        "id": "L1d6Yscd6lVu",
        "tags": [
          "task_8b"
        ]
      },
      "outputs": [
        {
          "name": "stdout",
          "output_type": "stream",
          "text": [
            "        last                                       first gender   age  class  \\\n",
            "0     Braund                             Mr. Owen Harris      M  22.0      3   \n",
            "1    Cumings  Mrs. John Bradley (Florence Briggs Thayer)      F  38.0      1   \n",
            "2  Heikkinen                                  Miss Laina      F  26.0      3   \n",
            "3   Futrelle          Mrs. Jacques Heath (Lily May Peel)      F  35.0      1   \n",
            "4      Allen                           Mr. William Henry      M  35.0      3   \n",
            "5      Moran                                   Mr. James      M   NaN      3   \n",
            "6   McCarthy                               Mr. Timothy J      M  54.0      1   \n",
            "7    Palsson                        Master Gosta Leonard      M   2.0      3   \n",
            "8    Johnson    Mrs. Oscar W (Elisabeth Vilhelmina Berg)      F  27.0      3   \n",
            "9     Nasser                 Mrs. Nicholas (Adele Achem)      F  14.0      2   \n",
            "\n",
            "      fare     embarked survived  \n",
            "0   7.2500  Southampton       no  \n",
            "1  71.2833    Cherbourg      yes  \n",
            "2   7.9250  Southampton      yes  \n",
            "3  53.1000  Southampton      yes  \n",
            "4   8.0500  Southampton       no  \n",
            "5   8.4583   Queenstown       no  \n",
            "6  51.8625  Southampton       no  \n",
            "7  21.0750  Southampton       no  \n",
            "8  11.1333  Southampton      yes  \n",
            "9  30.0708    Cherbourg      yes  \n"
          ]
        }
      ],
      "source": [
        "print(df.head(10))"
      ]
    },
    {
      "cell_type": "markdown",
      "metadata": {
        "id": "NbbRIcyqy7z4"
      },
      "source": [
        "### Task 9\n",
        "\n",
        "Add a new column - full name - it should be a concat of the first and last name."
      ]
    },
    {
      "cell_type": "code",
      "execution_count": 40,
      "metadata": {
        "id": "DJcQPHU36lVv",
        "tags": [
          "task_9"
        ]
      },
      "outputs": [
        {
          "name": "stdout",
          "output_type": "stream",
          "text": [
            "                                        first       last  \\\n",
            "0                             Mr. Owen Harris     Braund   \n",
            "1  Mrs. John Bradley (Florence Briggs Thayer)    Cumings   \n",
            "2                                  Miss Laina  Heikkinen   \n",
            "3          Mrs. Jacques Heath (Lily May Peel)   Futrelle   \n",
            "4                           Mr. William Henry      Allen   \n",
            "5                                   Mr. James      Moran   \n",
            "6                               Mr. Timothy J   McCarthy   \n",
            "7                        Master Gosta Leonard    Palsson   \n",
            "8    Mrs. Oscar W (Elisabeth Vilhelmina Berg)    Johnson   \n",
            "9                 Mrs. Nicholas (Adele Achem)     Nasser   \n",
            "\n",
            "                                           full name  \n",
            "0                             Mr. Owen Harris Braund  \n",
            "1  Mrs. John Bradley (Florence Briggs Thayer) Cum...  \n",
            "2                               Miss Laina Heikkinen  \n",
            "3        Mrs. Jacques Heath (Lily May Peel) Futrelle  \n",
            "4                            Mr. William Henry Allen  \n",
            "5                                    Mr. James Moran  \n",
            "6                             Mr. Timothy J McCarthy  \n",
            "7                       Master Gosta Leonard Palsson  \n",
            "8   Mrs. Oscar W (Elisabeth Vilhelmina Berg) Johnson  \n",
            "9                 Mrs. Nicholas (Adele Achem) Nasser  \n"
          ]
        }
      ],
      "source": [
        "df['full name'] = df['first'] + ' ' + df['last']\n",
        "\n",
        "print(df[['first', 'last', 'full name']].head(10))"
      ]
    },
    {
      "cell_type": "markdown",
      "metadata": {
        "id": "UvRSBhXi6lVw"
      },
      "source": [
        "### Task 10\n",
        "\n",
        "Remove the two original columns - last, first."
      ]
    },
    {
      "cell_type": "code",
      "execution_count": 41,
      "metadata": {
        "id": "2K8klEkzy7z4",
        "tags": [
          "task_10"
        ]
      },
      "outputs": [
        {
          "name": "stdout",
          "output_type": "stream",
          "text": [
            "  gender   age  class     fare     embarked survived  \\\n",
            "0      M  22.0      3   7.2500  Southampton       no   \n",
            "1      F  38.0      1  71.2833    Cherbourg      yes   \n",
            "2      F  26.0      3   7.9250  Southampton      yes   \n",
            "3      F  35.0      1  53.1000  Southampton      yes   \n",
            "4      M  35.0      3   8.0500  Southampton       no   \n",
            "5      M   NaN      3   8.4583   Queenstown       no   \n",
            "6      M  54.0      1  51.8625  Southampton       no   \n",
            "7      M   2.0      3  21.0750  Southampton       no   \n",
            "8      F  27.0      3  11.1333  Southampton      yes   \n",
            "9      F  14.0      2  30.0708    Cherbourg      yes   \n",
            "\n",
            "                                           full name  \n",
            "0                             Mr. Owen Harris Braund  \n",
            "1  Mrs. John Bradley (Florence Briggs Thayer) Cum...  \n",
            "2                               Miss Laina Heikkinen  \n",
            "3        Mrs. Jacques Heath (Lily May Peel) Futrelle  \n",
            "4                            Mr. William Henry Allen  \n",
            "5                                    Mr. James Moran  \n",
            "6                             Mr. Timothy J McCarthy  \n",
            "7                       Master Gosta Leonard Palsson  \n",
            "8   Mrs. Oscar W (Elisabeth Vilhelmina Berg) Johnson  \n",
            "9                 Mrs. Nicholas (Adele Achem) Nasser  \n"
          ]
        }
      ],
      "source": [
        "df = df.drop(['last', 'first'], axis=1)\n",
        "\n",
        "print(df.head(10))"
      ]
    },
    {
      "cell_type": "markdown",
      "metadata": {
        "id": "A431RdWp6lVw"
      },
      "source": [
        "### Task 11\n",
        "\n",
        "Calculate the total number of survivors in the dataset."
      ]
    },
    {
      "cell_type": "code",
      "execution_count": 42,
      "metadata": {
        "id": "meTLWpz46lVx",
        "tags": [
          "task_11"
        ]
      },
      "outputs": [
        {
          "name": "stdout",
          "output_type": "stream",
          "text": [
            "Total number of survivors: 342\n"
          ]
        }
      ],
      "source": [
        "df = df.dropna(subset=['survived'])\n",
        "\n",
        "df['survived'] = df['survived'].map({'yes': 1, 'no': 0}).astype(int)\n",
        "\n",
        "total_survivors = df['survived'].sum()\n",
        "\n",
        "print('Total number of survivors:', total_survivors)"
      ]
    }
  ],
  "metadata": {
    "colab": {
      "provenance": [],
      "toc_visible": true
    },
    "kernelspec": {
      "display_name": "venv",
      "language": "python",
      "name": "python3"
    },
    "language_info": {
      "codemirror_mode": {
        "name": "ipython",
        "version": 3
      },
      "file_extension": ".py",
      "mimetype": "text/x-python",
      "name": "python",
      "nbconvert_exporter": "python",
      "pygments_lexer": "ipython3",
      "version": "3.13.2"
    },
    "orig_nbformat": 4
  },
  "nbformat": 4,
  "nbformat_minor": 0
}
