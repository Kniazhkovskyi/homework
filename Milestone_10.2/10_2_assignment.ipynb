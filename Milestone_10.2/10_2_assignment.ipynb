{
  "cells": [
    {
      "cell_type": "markdown",
      "metadata": {
        "id": "oY7M_WqQy7zz"
      },
      "source": [
        "# Assignment 10.2\n",
        "\n",
        "> Replace all TODOs with your code. Do not change any other code."
      ]
    },
    {
      "cell_type": "code",
      "execution_count": null,
      "metadata": {
        "id": "DCZ2nU3KCFyk"
      },
      "outputs": [],
      "source": [
        "# Do not edit this cell\n",
        "\n",
        "import csv\n",
        "import unittest\n"
      ]
    },
    {
      "cell_type": "markdown",
      "metadata": {
        "id": "Jz8SYjAz0N8D"
      },
      "source": [
        "## Clean code"
      ]
    },
    {
      "cell_type": "markdown",
      "metadata": {
        "id": "IHwd1Zzby7z1"
      },
      "source": [
        "### Task 1\n",
        "\n",
        "You are given a function that reads a csv file with temperature measurements (see example below), converts Fahrenheit values to Celsius, calculates and prints some statistics, and writes to another file. It looks a bit messy, let's clean it up!\n",
        "\n",
        "Example file:\n",
        "```csv\n",
        "Temperature (F)\n",
        "78.5\n",
        "81.2\n",
        "75.9\n",
        "82.1\n",
        "```\n",
        "\n",
        "Do the steps below one by one, editing the code in the cell:\n",
        "1. Naming is so ambiguous and unclear, let's rename variables and function name with proper names.\n",
        "2. Are these comments really useful?\n",
        "3. This function does quite a lot, let's divide it in the way that each function does only one thing, and there's one main function that uses others.\n",
        "4. There seem to be some magic coefficients in the temperature conversion part; let's make them obvious.\n",
        "\n",
        "If you find any additional improvements, feel free to implement them and leave a comment under your code with an explanation."
      ]
    },
    {
      "cell_type": "code",
      "execution_count": 14,
      "metadata": {
        "id": "uBoo2azsCFyv",
        "tags": [
          "task_1"
        ]
      },
      "outputs": [],
      "source": [
        "def read_fahrenheit_temperatures(input_file):\n",
        "    temperatures_fahrenheit = []\n",
        "    with open(input_file, 'r') as file:\n",
        "        reader = csv.reader(file)\n",
        "        next(reader)\n",
        "        for row in reader:\n",
        "            fahrenheit = float(row[0])\n",
        "            temperatures_fahrenheit.append(fahrenheit)\n",
        "    return temperatures_fahrenheit\n",
        "\n",
        "\n",
        "def convert_fahrenheit_to_celsius(fahrenheit_temp):\n",
        "    FAHRENHEIT_TO_CELSIUS_FACTOR = 5 / 9\n",
        "    FAHRENHEIT_FREEZING_POINT = 32\n",
        "    return (fahrenheit_temp - FAHRENHEIT_FREEZING_POINT) * FAHRENHEIT_TO_CELSIUS_FACTOR\n",
        "\n",
        "\n",
        "def calculate_statistics(temperatures_celsius):\n",
        "    average = sum(temperatures_celsius) / len(temperatures_celsius)\n",
        "    minimum = min(temperatures_celsius)\n",
        "    maximum = max(temperatures_celsius)\n",
        "    return average, minimum, maximum\n",
        "\n",
        "\n",
        "def write_celsius_temperatures(output_file, temperatures_celsius):\n",
        "    with open(output_file, 'w', newline='') as file:\n",
        "        writer = csv.writer(file)\n",
        "        writer.writerow(['Temperature (C)'])\n",
        "        for temp in temperatures_celsius:\n",
        "            writer.writerow([temp])\n",
        "\n",
        "\n",
        "def process_temperature_data(input_file, output_file):\n",
        "    fahrenheit_temps = read_fahrenheit_temperatures(input_file)\n",
        "    celsius_temps = [convert_fahrenheit_to_celsius(f) for f in fahrenheit_temps]\n",
        "    average, minimum, maximum = calculate_statistics(celsius_temps)\n",
        "\n",
        "    print(\"Statistics:\")\n",
        "    print(\"Average: {:.2f}°C\".format(average))\n",
        "    print(\"Minimum: {:.2f}°C\".format(minimum))\n",
        "    print(\"Maximum: {:.2f}°C\".format(maximum))\n",
        "\n",
        "    write_celsius_temperatures(output_file, celsius_temps)"
      ]
    },
    {
      "cell_type": "markdown",
      "metadata": {
        "id": "lL-ELM-Ay7z2"
      },
      "source": [
        "### Task 2\n",
        "\n",
        "How would you write tests for the initial implementation? What exactly would you test in the function?\n",
        "\n",
        "I hope you see now that once functionality is separated, it's easier to test it in isolation. So, let's write a couple of unit tests for your function and one integration test for your main function.\n",
        "\n",
        "Hint: you would probably want to mock reading from/writing to file to make the test independent from the environment."
      ]
    },
    {
      "cell_type": "code",
      "execution_count": 13,
      "metadata": {
        "id": "cibiSsjry7z3"
      },
      "outputs": [],
      "source": [
        "from unittest.mock import mock_open, patch\n",
        "import io\n",
        "\n",
        "\n",
        "class UnitTestCase(unittest.TestCase):\n",
        "\n",
        "    def test_convert_fahrenheit_to_celsius(self):\n",
        "        self.assertAlmostEqual(convert_fahrenheit_to_celsius(32), 0)\n",
        "        self.assertAlmostEqual(convert_fahrenheit_to_celsius(212), 100)\n",
        "        self.assertAlmostEqual(convert_fahrenheit_to_celsius(98.6), 37, places=1)\n",
        "\n",
        "    def test_calculate_statistics(self):\n",
        "        temps = [0, 10, 20]\n",
        "        average, minimum, maximum = calculate_statistics(temps)\n",
        "        self.assertEqual(average, 10)\n",
        "        self.assertEqual(minimum, 0)\n",
        "        self.assertEqual(maximum, 20)\n",
        "\n",
        "    def test_read_fahrenheit_temperatures(self):\n",
        "        mock_csv = \"Temperature (F)\\n32\\n212\\n\"\n",
        "        with patch(\"builtins.open\", mock_open(read_data=mock_csv)):\n",
        "            result = read_fahrenheit_temperatures(\"dummy.csv\")\n",
        "            self.assertEqual(result, [32.0, 212.0])\n",
        "\n",
        "    def test_write_celsius_temperatures(self):\n",
        "        temps = [0, 100]\n",
        "        mock_output = io.StringIO()\n",
        "        with patch(\"builtins.open\", return_value=mock_output, create=True):\n",
        "            write_celsius_temperatures(\"dummy.csv\", temps)\n",
        "            mock_output.seek(0)\n",
        "            content = mock_output.read()\n",
        "            self.assertIn(\"Temperature (C)\", content)\n",
        "            self.assertIn(\"0\", content)\n",
        "            self.assertIn(\"100\", content)\n",
        "\n",
        "\n",
        "class IntegrationTestCase(unittest.TestCase):\n",
        "\n",
        "    @patch(\"builtins.open\", new_callable=mock_open, read_data=\"Temperature (F)\\n32\\n212\\n\")\n",
        "    def test_process_temperature_data(self, mock_file):\n",
        "        output_file = io.StringIO()\n",
        "        with patch(\"csv.writer\") as mock_writer_class:\n",
        "            mock_writer = mock_writer_class.return_value\n",
        "            mock_writer.writerow = lambda row: None\n",
        "\n",
        "            process_temperature_data(\"input.csv\", \"output.csv\")\n",
        "\n",
        "            self.assertTrue(mock_writer_class.called)\n",
        "            self.assertTrue(mock_writer.writerow.called)"
      ]
    }
  ],
  "metadata": {
    "colab": {
      "provenance": []
    },
    "kernelspec": {
      "display_name": "venv",
      "language": "python",
      "name": "python3"
    },
    "language_info": {
      "codemirror_mode": {
        "name": "ipython",
        "version": 3
      },
      "file_extension": ".py",
      "mimetype": "text/x-python",
      "name": "python",
      "nbconvert_exporter": "python",
      "pygments_lexer": "ipython3",
      "version": "3.13.2"
    },
    "orig_nbformat": 4
  },
  "nbformat": 4,
  "nbformat_minor": 0
}
