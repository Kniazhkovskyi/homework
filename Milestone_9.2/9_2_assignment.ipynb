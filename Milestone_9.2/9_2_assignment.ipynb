{
  "cells": [
    {
      "cell_type": "markdown",
      "metadata": {
        "id": "oY7M_WqQy7zz"
      },
      "source": [
        "# Assignment 9.2\n",
        "\n",
        "> Replace all TODOs with your code. Do not change any other code."
      ]
    },
    {
      "cell_type": "code",
      "execution_count": 9,
      "metadata": {
        "id": "mnm_mM7I9Xx0"
      },
      "outputs": [],
      "source": [
        "# Do not edit this cell\n",
        "\n",
        "from typing import List\n",
        "import math"
      ]
    },
    {
      "cell_type": "markdown",
      "metadata": {
        "id": "Jz8SYjAz0N8D"
      },
      "source": [
        "## Descriptive statistics\n",
        "\n",
        "In this assignment, we will write the functions to calculate the basic statistics from scratch, not using numpy."
      ]
    },
    {
      "cell_type": "markdown",
      "metadata": {
        "id": "IHwd1Zzby7z1"
      },
      "source": [
        "### Task 1\n",
        "\n",
        "Let's start simple: write a function `mean` that calculates the average of the list.\n",
        "\n",
        "$$\\mu = \\frac{{\\sum_{i=1}^n x_i}}{{n}}$$"
      ]
    },
    {
      "cell_type": "code",
      "execution_count": 2,
      "metadata": {
        "id": "UfB0dnXHy7z2",
        "tags": [
          "task_1"
        ]
      },
      "outputs": [],
      "source": [
        "def mean(li: List[float]) -> float:\n",
        "    return sum(li) / len(li)\n",
        "\n",
        "\n",
        "assert mean([1., 2., 3.]) == 2.\n",
        "assert mean([1., 1., 2., 0.]) == 1."
      ]
    },
    {
      "cell_type": "markdown",
      "metadata": {
        "id": "lL-ELM-Ay7z2"
      },
      "source": [
        "### Task 2\n",
        "\n",
        "Now let's calculate variance (dispersion). You may use the `mean` function implemented before.\n",
        "\n",
        "$$V = \\frac{{\\sum_{i=1}^n (x_i - \\mu)^2}}{{n}}$$"
      ]
    },
    {
      "cell_type": "code",
      "execution_count": null,
      "metadata": {
        "id": "cibiSsjry7z3",
        "tags": [
          "task_2"
        ]
      },
      "outputs": [],
      "source": [
        "def variance(li: List[float]) -> float:\n",
        "    m = mean(li)\n",
        "    return sum((x - m) ** 2 for x in li) / len(li)\n",
        "\n",
        "\n",
        "assert variance([1., 1., 1.]) == 0.\n",
        "assert variance([1., 2., 3., 4.]) == 1.25"
      ]
    },
    {
      "cell_type": "markdown",
      "metadata": {
        "id": "YSAUJe1u9XyM"
      },
      "source": [
        "### Task 3\n",
        "\n",
        "The standard deviation is easy once you get the variance:\n",
        "\n",
        "$$\\sigma = \\sqrt{V}$$"
      ]
    },
    {
      "cell_type": "code",
      "execution_count": 6,
      "metadata": {
        "id": "8cr3iHPR9XyO",
        "tags": [
          "task_3"
        ]
      },
      "outputs": [],
      "source": [
        "def std(li: List[float]) -> float:\n",
        "    return math.sqrt(variance(li))\n",
        "\n",
        "\n",
        "assert std([1., 1., 1.]) == 0.\n",
        "assert std([1., 2., 3., 4.]) == 1.25**0.5"
      ]
    },
    {
      "cell_type": "markdown",
      "metadata": {
        "id": "2I481Gkj9XyR"
      },
      "source": [
        "### Task 4\n",
        "\n",
        "**Median**\n",
        "\n",
        "The median is the middle value in a sorted dataset. If the dataset has an odd number of values, the median is the value at the center. If the dataset has an even number of values, the median is the average of the two middle values."
      ]
    },
    {
      "cell_type": "code",
      "execution_count": 7,
      "metadata": {
        "id": "0BEoTR119XyT",
        "tags": [
          "task_4"
        ]
      },
      "outputs": [],
      "source": [
        "def median(li: List[float]) -> float:\n",
        "    li_sorted = sorted(li)\n",
        "    \n",
        "    n = len(li_sorted)\n",
        "    \n",
        "    if n % 2 == 1:\n",
        "        return li_sorted[n // 2]\n",
        "\n",
        "    else:\n",
        "        return (li_sorted[n // 2 - 1] + li_sorted[n // 2]) / 2\n",
        "\n",
        "\n",
        "assert median([1., 1., 1.]) == 1.\n",
        "assert median([1., 4., 3., 2.]) == 2.5"
      ]
    },
    {
      "cell_type": "markdown",
      "metadata": {
        "id": "5DzFkKwx0VI5"
      },
      "source": [
        "## Measure performance\n",
        "\n",
        "Sometimes, apart from theoretical, algorithmic complexity, it's a good idea to compare the runtime of two algorithms empirically, i.e., run the code many times and time it.\n",
        "\n",
        "In Python's standard library, we have [timeit](https://docs.python.org/3/library/timeit.html) module that does exactly that.\n",
        "\n",
        "Let's compare the runtime of your implementations and numpy. Use the provided setup code:"
      ]
    },
    {
      "cell_type": "code",
      "execution_count": 20,
      "metadata": {
        "id": "wlNX3Jyz9XyV"
      },
      "outputs": [
        {
          "name": "stdout",
          "output_type": "stream",
          "text": [
            "Your mean function took 0.000542 seconds.\n",
            "Your variance function took 0.012235 seconds.\n",
            "Your std function took 0.008914 seconds.\n",
            "Your median function took 0.009138 seconds.\n",
            "NumPy numpy_mean function took 0.000078 seconds.\n",
            "NumPy numpy_variance function took 0.000174 seconds.\n",
            "NumPy numpy_std function took 0.000190 seconds.\n",
            "NumPy numpy_median function took 0.000517 seconds.\n"
          ]
        }
      ],
      "source": [
        "import timeit\n",
        "\n",
        "setup = '''\n",
        "import random\n",
        "import numpy as np\n",
        "\n",
        "arr = np.random.rand(10_000) * 100\n",
        "li = [random.random() * 100 for _ in range(10_000)]\n",
        "'''\n",
        "\n",
        "def numpy_mean(arr):\n",
        "    return np.mean(arr)\n",
        "\n",
        "def numpy_variance(arr):\n",
        "    return np.var(arr)\n",
        "\n",
        "def numpy_std(arr):\n",
        "    return np.std(arr)\n",
        "\n",
        "def numpy_median(arr):\n",
        "    return np.median(arr)\n",
        "\n",
        "funcs = {\n",
        "    'mean': mean,\n",
        "    'variance': variance,\n",
        "    'std': std,\n",
        "    'median': median,\n",
        "}\n",
        "\n",
        "for name, func in funcs.items():\n",
        "    time_taken = timeit.timeit(f\"{name}(li)\", setup=setup, globals=globals(), number=10)\n",
        "    print(f\"Your {name} function took {time_taken:.6f} seconds.\")\n",
        "\n",
        "numpy_funcs = {\n",
        "    'numpy_mean': numpy_mean,\n",
        "    'numpy_variance': numpy_variance,\n",
        "    'numpy_std': numpy_std,\n",
        "    'numpy_median': numpy_median,\n",
        "}\n",
        "\n",
        "for name, func in numpy_funcs.items():\n",
        "    time_taken = timeit.timeit(f\"{name}(arr)\", setup=setup, globals=globals(), number=10)\n",
        "    print(f\"NumPy {name} function took {time_taken:.6f} seconds.\")"
      ]
    },
    {
      "cell_type": "markdown",
      "metadata": {
        "id": "nP0LlORsy7z4"
      },
      "source": [
        "### Task 5\n",
        "\n",
        "Complete Python statements to compare your functions to numpy. Use `li` for your function and `arr` for numpy functions."
      ]
    },
    {
      "cell_type": "code",
      "execution_count": 21,
      "metadata": {
        "id": "RiIm_kUSy7z4",
        "tags": [
          "task_5"
        ]
      },
      "outputs": [],
      "source": [
        "stmt_mean_custom = 'mean(li)'\n",
        "stmt_mean_np = 'np.mean(arr)'\n",
        "\n",
        "stmt_var_custom = 'variance(li)'\n",
        "stmt_var_np = 'np.var(arr)'\n",
        "\n",
        "stmt_std_custom = 'std(li)'\n",
        "stmt_std_np = 'np.std(arr)'\n",
        "\n",
        "stmt_median_custom = 'median(li)'\n",
        "stmt_median_np = 'np.median(arr)'"
      ]
    },
    {
      "cell_type": "markdown",
      "metadata": {
        "id": "hU1yDEnzy7z4"
      },
      "source": [
        "### Task 6\n",
        "\n",
        "Measure average exec time of your statements with `timeit` module. As your submission, fill out the table with results (rounded to 2 decimal places)"
      ]
    },
    {
      "cell_type": "code",
      "execution_count": 34,
      "metadata": {
        "id": "8sOSsdKiy7z4",
        "tags": [
          "task_6"
        ]
      },
      "outputs": [
        {
          "name": "stdout",
          "output_type": "stream",
          "text": [
            "Time per 10000 executions, secs\n",
            "Func      Custom      Numpy\n",
            "mean      0.00002322 0.00000275\n",
            "var       0.00054011 0.00001036\n",
            "std       0.00053551 0.00001094\n",
            "median    0.00055912 0.00003117\n"
          ]
        }
      ],
      "source": [
        "import timeit\n",
        "\n",
        "mean_custom_time = timeit.timeit(stmt=stmt_mean_custom, setup=setup, globals=globals(), number=10_000)\n",
        "mean_np_time = timeit.timeit(stmt=stmt_mean_np, setup=setup, globals=globals(), number=10_000)\n",
        "\n",
        "var_custom_time = timeit.timeit(stmt=stmt_var_custom, setup=setup, globals=globals(), number=10_000)\n",
        "var_np_time = timeit.timeit(stmt=stmt_var_np, setup=setup, globals=globals(), number=10_000)\n",
        "\n",
        "std_custom_time = timeit.timeit(stmt=stmt_std_custom, setup=setup, globals=globals(), number=10_000)\n",
        "std_np_time = timeit.timeit(stmt=stmt_std_np, setup=setup, globals=globals(), number=10_000)\n",
        "\n",
        "median_custom_time = timeit.timeit(stmt=stmt_median_custom, setup=setup, globals=globals(), number=10_000)\n",
        "median_np_time = timeit.timeit(stmt=stmt_median_np, setup=setup, globals=globals(), number=10_000)\n",
        "\n",
        "print(\"Time per 10000 executions, secs\")\n",
        "print(f\"{'Func':<10}{'Custom':<10}  {'Numpy'}\")\n",
        "print(f\"{'mean':<10}{mean_custom_time/10_000:.8f} {mean_np_time/10_000:.8f}\")\n",
        "print(f\"{'var':<10}{var_custom_time/10_000:.8f} {var_np_time/10_000:.8f}\")\n",
        "print(f\"{'std':<10}{std_custom_time/10_000:.8f} {std_np_time/10_000:.8f}\")\n",
        "print(f\"{'median':<10}{median_custom_time/10_000:.8f} {median_np_time/10_000:.8f}\")"
      ]
    },
    {
      "cell_type": "markdown",
      "metadata": {
        "id": "NbbRIcyqy7z4"
      },
      "source": [
        "Time per 10000 executions, secs\n",
        "\n",
        "| Func       | Custom | Numpy |\n",
        "| ---------- | ------ | ----- |\n",
        "| mean       |        |       |\n",
        "| var        |        |       |\n",
        "| std        |        |       |\n",
        "| median     |        |       |"
      ]
    },
    {
      "cell_type": "code",
      "execution_count": null,
      "metadata": {},
      "outputs": [],
      "source": []
    }
  ],
  "metadata": {
    "colab": {
      "provenance": [],
      "toc_visible": true
    },
    "kernelspec": {
      "display_name": "venv",
      "language": "python",
      "name": "python3"
    },
    "language_info": {
      "codemirror_mode": {
        "name": "ipython",
        "version": 3
      },
      "file_extension": ".py",
      "mimetype": "text/x-python",
      "name": "python",
      "nbconvert_exporter": "python",
      "pygments_lexer": "ipython3",
      "version": "3.13.2"
    },
    "orig_nbformat": 4
  },
  "nbformat": 4,
  "nbformat_minor": 0
}
