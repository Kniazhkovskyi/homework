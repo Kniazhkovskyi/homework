{
 "cells": [
  {
   "cell_type": "markdown",
   "metadata": {
    "id": "ozOVKEIKm8aP"
   },
   "source": [
    "# Assignment 8.2\n",
    "\n",
    "> Replace all TODOs with your code.\n",
    ">\n",
    "> Do not change any other code and do not add/remove cells!"
   ]
  },
  {
   "cell_type": "markdown",
   "metadata": {
    "id": "GRPST61knD1_"
   },
   "source": [
    "## Inheritance"
   ]
  },
  {
   "cell_type": "markdown",
   "metadata": {
    "id": "TIeo4PGfnH_f"
   },
   "source": [
    "### Task 1\n",
    "\n",
    "Define a base class named `Account` to a general bank account.\n",
    "\n",
    "The class should include an initialization method (`__init__`), taking into account the number and holder name and methods for depositing money to the account and withdrawing from it. Do not forget to ensure that the account never has a negative balance.\n",
    "\n",
    "String representation (`__str__`) should be an abstract method (throw a corresponding error if it is called on the base `Account` class"
   ]
  },
  {
   "cell_type": "code",
   "execution_count": null,
   "metadata": {
    "id": "es4kM6panjNB"
   },
   "outputs": [
    {
     "name": "stdout",
     "output_type": "stream",
     "text": [
      "SavingsAccount(12345, John Doe, Balance: 0, Interest Rate: 5%)\n",
      "SavingsAccount(12345, John Doe, Balance: 100, Interest Rate: 5%)\n",
      "SavingsAccount(12345, John Doe, Balance: 50, Interest Rate: 5%)\n",
      "Insufficient balance.\n"
     ]
    }
   ],
   "source": [
    "from abc import ABC, abstractmethod\n",
    "\n",
    "class Account(ABC):\n",
    "    def __init__(self, account_number, holder_name):\n",
    "        self.account_number = account_number\n",
    "        self.holder_name = holder_name\n",
    "        self.balance = 0\n",
    "\n",
    "    def deposit(self, amount):\n",
    "        if amount > 0:\n",
    "            self.balance += amount\n",
    "        else:\n",
    "            raise ValueError(\"Deposit amount must be positive.\")\n",
    "    \n",
    "    def withdraw(self, amount):\n",
    "        if amount > self.balance:\n",
    "            raise ValueError(\"Insufficient balance.\")\n",
    "        if amount > 0:\n",
    "            self.balance -= amount\n",
    "        else:\n",
    "            raise ValueError(\"Withdrawal amount must be positive.\")\n",
    "\n",
    "    @abstractmethod\n",
    "    def __str__(self):\n",
    "        raise NotImplementedError(\"This method must be overridden in subclasses.\")\n",
    "\n",
    "\n",
    "# Пример дочернего класса: SavingsAccount\n",
    "class SavingsAccount(Account):\n",
    "    def __init__(self, account_number, holder_name, interest_rate):\n",
    "        super().__init__(account_number, holder_name)\n",
    "        self.interest_rate = interest_rate\n",
    "\n",
    "    def __str__(self):\n",
    "        return f\"SavingsAccount({self.account_number}, {self.holder_name}, Balance: {self.balance}, Interest Rate: {self.interest_rate}%)\"\n",
    "\n",
    "\n",
    "# Создание сберегательного счета\n",
    "savings_account = SavingsAccount(\"12345\", \"John Doe\", 5)\n",
    "print(savings_account)  # Сначала баланс будет 0\n",
    "\n",
    "# Пополнение счета\n",
    "savings_account.deposit(100)\n",
    "print(savings_account)  # Баланс: 100\n",
    "\n",
    "# Снятие денег\n",
    "savings_account.withdraw(50)\n",
    "print(savings_account)  # Баланс: 50\n",
    "\n",
    "# Попытка снять больше, чем на счете\n",
    "try:\n",
    "    savings_account.withdraw(100)  # Это вызовет ошибку\n",
    "except ValueError as e:\n",
    "    print(e)  # Insufficient balance\n"
   ]
  },
  {
   "cell_type": "markdown",
   "metadata": {
    "id": "4FjqIBbCnqh3"
   },
   "source": [
    "### Task 2\n",
    "\n",
    "Derive a `CurrentAccount` subclass from the `Account` base class and provide its own implementation for the `__str__` method. The text representation should mention the type of account, account number, and remaining balance."
   ]
  },
  {
   "cell_type": "code",
   "execution_count": null,
   "metadata": {
    "id": "VNhS9FjCr-_k"
   },
   "outputs": [
    {
     "name": "stdout",
     "output_type": "stream",
     "text": [
      "CurrentAccount(98765, Jane Doe, Balance: 500, Overdraft Limit: 1000)\n",
      "CurrentAccount(98765, Jane Doe, Balance: 300, Overdraft Limit: 1000)\n",
      "Insufficient balance.\n"
     ]
    }
   ],
   "source": [
    "class CurrentAccount(Account):\n",
    "    def __init__(self, account_number, holder_name, overdraft_limit):\n",
    "        super().__init__(account_number, holder_name)\n",
    "        self.overdraft_limit = overdraft_limit\n",
    "\n",
    "    def __str__(self):\n",
    "        return f\"CurrentAccount({self.account_number}, {self.holder_name}, Balance: {self.balance}, Overdraft Limit: {self.overdraft_limit})\"\n",
    "\n",
    "\n",
    "# Создаем текущий счет\n",
    "current_account = CurrentAccount(\"98765\", \"Jane Doe\", 1000)\n",
    "\n",
    "# Пополнение счета\n",
    "current_account.deposit(500)\n",
    "print(current_account)  # CurrentAccount(98765, Jane Doe, Balance: 500, Overdraft Limit: 1000)\n",
    "\n",
    "# Снятие денег\n",
    "current_account.withdraw(200)\n",
    "print(current_account)  # CurrentAccount(98765, Jane Doe, Balance: 300, Overdraft Limit: 1000)\n",
    "\n",
    "# Попытка снять больше, чем на счете\n",
    "try:\n",
    "    current_account.withdraw(350)  # Это вызовет ошибку\n",
    "except ValueError as e:\n",
    "    print(e)  # Insufficient balance"
   ]
  },
  {
   "cell_type": "markdown",
   "metadata": {
    "id": "h-CdQzoOtjy6"
   },
   "source": [
    "### Task 3\n",
    "\n",
    "Derive a `SavingsAccount` subclass from the `Account` base class and provide its implementation for the `__str__` method. When initializing objects of this class, the caller must provide the `interest_rate` parameter.\n",
    "\n",
    " The text representation should mention the type of account, interest rate, account number, and remaining balance.\n",
    "\n",
    "Provide additional method `add_interest` that adds interest based on `interest_rate`:\n",
    "$$new\\_balance = old\\_balance + old\\_balance * interest\\_rate$$"
   ]
  },
  {
   "cell_type": "code",
   "execution_count": 5,
   "metadata": {
    "id": "akQXzV_vtweO"
   },
   "outputs": [
    {
     "name": "stdout",
     "output_type": "stream",
     "text": [
      "SavingsAccount(12345, John Doe, Balance: 0, Interest Rate: 5%)\n",
      "SavingsAccount(12345, John Doe, Balance: 1000, Interest Rate: 5%)\n",
      "SavingsAccount(12345, John Doe, Balance: 1050.0, Interest Rate: 5%)\n",
      "SavingsAccount(12345, John Doe, Balance: 850.0, Interest Rate: 5%)\n"
     ]
    }
   ],
   "source": [
    "class SavingsAccount(Account):\n",
    "    def __init__(self, account_number, holder_name, interest_rate):\n",
    "        super().__init__(account_number, holder_name)\n",
    "        self.interest_rate = interest_rate\n",
    "\n",
    "    def __str__(self):\n",
    "        return f\"SavingsAccount({self.account_number}, {self.holder_name}, Balance: {self.balance}, Interest Rate: {self.interest_rate}%)\"\n",
    "    \n",
    "    def add_interest(self):\n",
    "        self.balance += self.balance * self.interest_rate / 100\n",
    "\n",
    "# Создаем сберегательный счет с процентной ставкой 5%\n",
    "savings_account = SavingsAccount(\"12345\", \"John Doe\", 5)\n",
    "print(savings_account)  # Строковое представление, баланс будет 0 на старте\n",
    "\n",
    "# Пополняем счет\n",
    "savings_account.deposit(1000)\n",
    "print(savings_account)  # Строковое представление с балансом 1000\n",
    "\n",
    "# Добавляем проценты\n",
    "savings_account.add_interest()\n",
    "print(savings_account)  # Строковое представление с новым балансом после добавления процентов\n",
    "\n",
    "# Снятие средств\n",
    "savings_account.withdraw(200)\n",
    "print(savings_account)  # Строковое представление с балансом 800"
   ]
  },
  {
   "cell_type": "markdown",
   "metadata": {
    "id": "724_WyJry8i9"
   },
   "source": [
    "### Task 4\n",
    "\n",
    "Create an array with different accounts, add/withdraw money from some of them, iterate over the array, and print the text representation of each."
   ]
  },
  {
   "cell_type": "code",
   "execution_count": 7,
   "metadata": {
    "id": "BDZA3L25zZEo"
   },
   "outputs": [
    {
     "name": "stdout",
     "output_type": "stream",
     "text": [
      "SavingsAccount(12345, John Doe, Balance: 525.0, Interest Rate: 5%)\n",
      "CurrentAccount(98765, Jane Doe, Balance: 500, Overdraft Limit: 1000)\n",
      "SavingsAccount(54321, Alice Smith, Balance: 0, Interest Rate: 3%)\n"
     ]
    }
   ],
   "source": [
    "accounts = [\n",
    "    SavingsAccount(\"12345\", \"John Doe\", 5),  # Сберегательный счет с процентной ставкой 5%\n",
    "    CurrentAccount(\"98765\", \"Jane Doe\", 1000),  # Текущий счет с лимитом овердрафта 1000\n",
    "    SavingsAccount(\"54321\", \"Alice Smith\", 3),  # Сберегательный счет с процентной ставкой 3%\n",
    "]\n",
    "\n",
    "# Операции с некоторыми счетами\n",
    "accounts[0].deposit(500)  # Пополняем сберегательный счет Джона на 500\n",
    "accounts[0].add_interest()  # Добавляем проценты на сберегательный счет Джона\n",
    "accounts[1].deposit(1000)  # Пополняем текущий счет Джейн на 1000\n",
    "accounts[1].withdraw(500)  # Снимаем 500 с текущего счета Джейн\n",
    "\n",
    "# Итерация по массиву аккаунтов и вывод строкового представления\n",
    "for account in accounts:\n",
    "    print(account)  # Выводим строковое представление каждого счета"
   ]
  }
 ],
 "metadata": {
  "colab": {
   "provenance": [
    {
     "file_id": "14i8prR2HfX0Q6ZtVHQO8LS6wLFQaKwHS",
     "timestamp": 1742836962288
    }
   ],
   "toc_visible": true
  },
  "kernelspec": {
   "display_name": "venv",
   "language": "python",
   "name": "python3"
  },
  "language_info": {
   "codemirror_mode": {
    "name": "ipython",
    "version": 3
   },
   "file_extension": ".py",
   "mimetype": "text/x-python",
   "name": "python",
   "nbconvert_exporter": "python",
   "pygments_lexer": "ipython3",
   "version": "3.13.2"
  }
 },
 "nbformat": 4,
 "nbformat_minor": 0
}
